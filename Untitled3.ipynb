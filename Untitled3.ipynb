{
  "nbformat": 4,
  "nbformat_minor": 0,
  "metadata": {
    "colab": {
      "name": "Untitled3.ipynb",
      "provenance": [],
      "collapsed_sections": [],
      "authorship_tag": "ABX9TyN8mLUAqBwxMTEfL4TFGESe",
      "include_colab_link": true
    },
    "kernelspec": {
      "display_name": "Python 3",
      "name": "python3"
    },
    "language_info": {
      "name": "python"
    }
  },
  "cells": [
    {
      "cell_type": "markdown",
      "metadata": {
        "id": "view-in-github",
        "colab_type": "text"
      },
      "source": [
        "<a href=\"https://colab.research.google.com/github/maullindaaa/M1P2V1_Operator-/blob/main/Untitled3.ipynb\" target=\"_parent\"><img src=\"https://colab.research.google.com/assets/colab-badge.svg\" alt=\"Open In Colab\"/></a>"
      ]
    },
    {
      "cell_type": "markdown",
      "metadata": {
        "id": "uxeTKJVj6X1k"
      },
      "source": [
        "#Operator\n",
        "Operator = Simbol-simbol yang dapat digunakan untuk mengubah nilai dari satu variabel dengan melibatkan satu atau lebih variabel dan literal.\n",
        "\n",
        "tipe tipe operator\n",
        "1. Operator Aritmatika \n",
        "2. Operator Assignment\n",
        "3. Operator Pembanding\n",
        "4. Operator Logika\n",
        "5. Operator Membership"
      ]
    },
    {
      "cell_type": "markdown",
      "metadata": {
        "id": "gaKpUv2Z7GAC"
      },
      "source": [
        "#Operator Aritmatika\n",
        "Operator Aritmatika digunakan untuk melakukan operasi matematika yang umum \n",
        "\n",
        "macam-macam operator aritmatika\n",
        "\n",
        "\n",
        "```\n",
        "+ : Pejumlahan\n",
        "- : Pengurangan\n",
        "* : Perkalian\n",
        "/ : Pembagian\n",
        "% : Modulus \n",
        "** : Perpangkata\n",
        "// : Pembagian dengan hasil pembulatan flooring is formatted as code\n",
        "```\n",
        "\n",
        "\n"
      ]
    },
    {
      "cell_type": "code",
      "metadata": {
        "colab": {
          "base_uri": "https://localhost:8080/"
        },
        "id": "pAr7sJ7t7l_L",
        "outputId": "ca6f8e87-ef68-46a9-fcd2-4662df4230f7"
      },
      "source": [
        "# Contoh penggunakan operator aritmatika\n",
        "\n",
        "#Penjumlahan \n",
        "print('Penjumlahan')\n",
        "print(2+2)\n",
        "#Pengurangan \n",
        "print('-'*20)\n",
        "print('Pengurangan')\n",
        "print(2-3)\n",
        "#Perkalian\n",
        "print('-'*20)\n",
        "print('Perkalian')\n",
        "print(2*3)\n",
        "#Pembagian\n",
        "print('-'*20)\n",
        "print('Pembagian')\n",
        "print(2/3)\n",
        "#Modulus\n",
        "print('-'*20)\n",
        "print('Modulus')\n",
        "print(2%3)\n",
        "#Perpangkatan\n",
        "print('-'*20)\n",
        "print('Perpangatan')\n",
        "print(2**3)\n",
        "#Pembagian Pembulatan Floring\n",
        "print('-'*20)\n",
        "print('Pembagian Pembulatan Floring')\n",
        "print(3//2)\n"
      ],
      "execution_count": null,
      "outputs": [
        {
          "output_type": "stream",
          "name": "stdout",
          "text": [
            "Penjumlahan\n",
            "4\n",
            "--------------------\n",
            "Pengurangan\n",
            "-1\n",
            "--------------------\n",
            "Perkalian\n",
            "6\n",
            "--------------------\n",
            "Pembagian\n",
            "0.6666666666666666\n",
            "--------------------\n",
            "Modulus\n",
            "2\n",
            "--------------------\n",
            "Perpangatan\n",
            "8\n",
            "--------------------\n",
            "Pembagian Pembulatan Floring\n",
            "1\n"
          ]
        }
      ]
    },
    {
      "cell_type": "markdown",
      "metadata": {
        "id": "WpfUoxicOTn5"
      },
      "source": [
        "Latihan Operator 1"
      ]
    },
    {
      "cell_type": "code",
      "metadata": {
        "id": "4DuvCfjZAjPs",
        "colab": {
          "base_uri": "https://localhost:8080/"
        },
        "outputId": "036580df-f5b5-4868-ccb7-a09fb2b87f5d"
      },
      "source": [
        "#Buatlah program penerapan operator aritmatika \n",
        "#dengan nilai nilai yang berbeda dari contoh diatas\n",
        "\n",
        "# Jawaban\n",
        "#Penjumlahan \n",
        "print('Penjumlahan')\n",
        "print(5+6)\n",
        "#Pengurangan \n",
        "print('-'*30)\n",
        "print('Pengurangan')\n",
        "print(5-6)\n",
        "#Perkalian\n",
        "print('-'*30)\n",
        "print('Perkalian')\n",
        "print(5*6)\n",
        "#Pembagian\n",
        "print('-'*30)\n",
        "print('Pembagian')\n",
        "print(5/6)\n",
        "#Modulus\n",
        "print('-'*30)\n",
        "print('Modulus')\n",
        "print(5%6)\n",
        "#Perpangkatan\n",
        "print('-'*30)\n",
        "print('Perpangatan')\n",
        "print(5**6)\n",
        "#Pembagian Pembulatan Floring\n",
        "print('-'*30)\n",
        "print('Pembagian Pembulatan Floring')\n",
        "print(6//4)"
      ],
      "execution_count": null,
      "outputs": [
        {
          "output_type": "stream",
          "name": "stdout",
          "text": [
            "Penjumlahan\n",
            "11\n",
            "------------------------------\n",
            "Pengurangan\n",
            "-1\n",
            "------------------------------\n",
            "Perkalian\n",
            "30\n",
            "------------------------------\n",
            "Pembagian\n",
            "0.8333333333333334\n",
            "------------------------------\n",
            "Modulus\n",
            "5\n",
            "------------------------------\n",
            "Perpangatan\n",
            "15625\n",
            "------------------------------\n",
            "Pembagian Pembulatan Floring\n",
            "1\n"
          ]
        }
      ]
    },
    {
      "cell_type": "markdown",
      "metadata": {
        "id": "1hYUVAOsC5ND"
      },
      "source": [
        "#Operator Assignment\n",
        "Operator assignment digunakan untuk menyimpan nilai menjadi suatu variabel\n",
        "\n",
        "\n",
        "```\n",
        "= : contohnya x = 5 -> x = 5\n",
        "+= : contohnya x = x + 5 -> x += 5\n",
        "-= : contohnya x = x - 5 -> x -= 5\n",
        "*= : contohnya x = x * 5 -> x *= 5\n",
        "/= : contohnya x = x / 5 -> x /= 5\n",
        "%= : contohnya x = x % 5 -> x %= 5\n",
        "//= : contohnya x = x // 5 -> x //= 5\n",
        "**= : contohnya x = x ** 5 -> x **= 5 \n",
        "``` \n",
        "\n"
      ]
    },
    {
      "cell_type": "code",
      "metadata": {
        "id": "ueqZyCzfCdpK",
        "colab": {
          "base_uri": "https://localhost:8080/"
        },
        "outputId": "c09aff68-2724-4e90-da6a-3e18e40f09ad"
      },
      "source": [
        "# Contoh penggunaan operator Assignment\n",
        "\n",
        "#Penjumlahan\n",
        "print('Penjumlahan')\n",
        "x=5\n",
        "x=x+5\n",
        "print(x)\n",
        "x=5\n",
        "x+=3\n",
        "print(x)\n",
        "print('-'*20)\n",
        "#Pengurangan\n",
        "print('Pengurangan')\n",
        "x=5\n",
        "x=x-5\n",
        "print(x)\n",
        "x=5\n",
        "x-=3\n",
        "print(x)\n",
        "print('-'*20)\n",
        "#Perkalian\n",
        "print('Perkalian')\n",
        "x=5\n",
        "x=x*5\n",
        "print(x)\n",
        "x=5\n",
        "x*=3\n",
        "print(x)\n",
        "print('-'*20)\n",
        "#Pembagian\n",
        "print('Pembagian')\n",
        "x=5\n",
        "x=x/5\n",
        "print(x)\n",
        "x=5\n",
        "x/=3\n",
        "print(x)\n",
        "print('-'*20)\n",
        "#Modulus\n",
        "print('Modulus')\n",
        "x=5\n",
        "x=x%5\n",
        "print(x)\n",
        "x=5\n",
        "x%=3\n",
        "print(x)\n",
        "print('-'*20)\n",
        "#Pembagian Floring\n",
        "print('Pembagian Floring')\n",
        "x=5\n",
        "x=x//5\n",
        "print(x)\n",
        "x=5\n",
        "x//=3\n",
        "print(x)\n",
        "print('-'*20)\n",
        "#Perpangkatan\n",
        "print('Peepangkatan')\n",
        "x=5\n",
        "x=x**5\n",
        "print(x)\n",
        "x=5\n",
        "x**=3\n",
        "print(x)\n",
        "print('-'*20)\n"
      ],
      "execution_count": null,
      "outputs": [
        {
          "output_type": "stream",
          "name": "stdout",
          "text": [
            "Penjumlahan\n",
            "10\n",
            "8\n",
            "--------------------\n",
            "Pengurangan\n",
            "0\n",
            "2\n",
            "--------------------\n",
            "Perkalian\n",
            "25\n",
            "15\n",
            "--------------------\n",
            "Pembagian\n",
            "1.0\n",
            "1.6666666666666667\n",
            "--------------------\n",
            "Modulus\n",
            "0\n",
            "2\n",
            "--------------------\n",
            "Pembagian Floring\n",
            "1\n",
            "1\n",
            "--------------------\n",
            "Peepangkatan\n",
            "3125\n",
            "125\n",
            "--------------------\n"
          ]
        }
      ]
    },
    {
      "cell_type": "markdown",
      "metadata": {
        "id": "NGQQBHwaOZ05"
      },
      "source": [
        "Latihan Operator 2"
      ]
    },
    {
      "cell_type": "code",
      "metadata": {
        "id": "rGvzDhTBL2e_",
        "colab": {
          "base_uri": "https://localhost:8080/"
        },
        "outputId": "2299c0ef-fcad-4852-df76-eb8c8ffa5641"
      },
      "source": [
        "#Buatlah program penerapan operator assignment \n",
        "#dengan nilia-nilai yang berbeda dari contoh di atas\n",
        "\n",
        "#JAWABAN\n",
        "#Penjumlahan\n",
        "print('Penjumlahan')\n",
        "x=12\n",
        "x=x+12\n",
        "print(x)\n",
        "x=12\n",
        "x+=4\n",
        "print(x)\n",
        "print('-'*30)\n",
        "#Pengurangan\n",
        "print('Pengurangan')\n",
        "x=12\n",
        "x=x-12\n",
        "print(x)\n",
        "x=12\n",
        "x-=4\n",
        "print(x)\n",
        "print('-'*30)\n",
        "#Perkalian\n",
        "print('Perkalian')\n",
        "x=12\n",
        "x=x*12\n",
        "print(x)\n",
        "x=12\n",
        "x*=4\n",
        "print(x)\n",
        "print('-'*30)\n",
        "#Pembagian\n",
        "print('Pembagian')\n",
        "x=12\n",
        "x=x/12\n",
        "print(x)\n",
        "x=12\n",
        "x/=4\n",
        "print(x)\n",
        "print('-'*30)\n",
        "#Modulus\n",
        "print('Modulus')\n",
        "x=12\n",
        "x=x%12\n",
        "print(x)\n",
        "x=12\n",
        "x%=4\n",
        "print(x)\n",
        "print('-'*30)\n",
        "#Pembagian Floring\n",
        "print('Pembagian Floring')\n",
        "x=12\n",
        "x=x//12\n",
        "print(x)\n",
        "x=12\n",
        "x//=4\n",
        "print(x)\n",
        "print('-'*30)\n",
        "#Perpangkatan\n",
        "print('Peepangkatan')\n",
        "x=12\n",
        "x=x**12\n",
        "print(x)\n",
        "x=12\n",
        "x**=4\n",
        "print(x)\n",
        "print('-'*30)"
      ],
      "execution_count": null,
      "outputs": [
        {
          "output_type": "stream",
          "name": "stdout",
          "text": [
            "Penjumlahan\n",
            "24\n",
            "16\n",
            "------------------------------\n",
            "Pengurangan\n",
            "0\n",
            "8\n",
            "------------------------------\n",
            "Perkalian\n",
            "144\n",
            "48\n",
            "------------------------------\n",
            "Pembagian\n",
            "1.0\n",
            "3.0\n",
            "------------------------------\n",
            "Modulus\n",
            "0\n",
            "0\n",
            "------------------------------\n",
            "Pembagian Floring\n",
            "1\n",
            "3\n",
            "------------------------------\n",
            "Peepangkatan\n",
            "8916100448256\n",
            "20736\n",
            "------------------------------\n"
          ]
        }
      ]
    },
    {
      "cell_type": "markdown",
      "metadata": {
        "id": "RffK7rnWF8TK"
      },
      "source": [
        "#Operator Pembanding\n",
        "Operator Pembanding digunakan untuk membandingkan 2 nilai atau variabel\n",
        "macam-macam operator pembanding:\n",
        "\n",
        "\n",
        "```\n",
        "== -> samadengan\n",
        "!= -> tidak samadengan\n",
        ">  -> lebih dari\n",
        "<  -> kurang dari\n",
        ">= -> lebih dari dan samadengan\n",
        "<= -> kurang dari dan sama dengan\n",
        "```\n",
        "\n"
      ]
    },
    {
      "cell_type": "code",
      "metadata": {
        "id": "tjyF9npmMN4V",
        "colab": {
          "base_uri": "https://localhost:8080/"
        },
        "outputId": "3987e3e1-61a2-451e-8b6d-deae4bf3134d"
      },
      "source": [
        "# Contoh penggunaan operator pembanding\n",
        "\n",
        "print(2==2)\n",
        "print(2!=2)\n",
        "print(2>2)\n",
        "print(2<2)\n",
        "print(2>=2)\n",
        "print(2<=2)\n"
      ],
      "execution_count": null,
      "outputs": [
        {
          "output_type": "stream",
          "name": "stdout",
          "text": [
            "True\n",
            "False\n",
            "False\n",
            "False\n",
            "True\n",
            "True\n"
          ]
        }
      ]
    },
    {
      "cell_type": "markdown",
      "metadata": {
        "id": "uCxSLQE6OcV3"
      },
      "source": [
        "Latihan Operator 3"
      ]
    },
    {
      "cell_type": "code",
      "metadata": {
        "id": "RCm4fmyXMm26",
        "colab": {
          "base_uri": "https://localhost:8080/"
        },
        "outputId": "0201da37-4d94-4937-8416-0f738e40a8d8"
      },
      "source": [
        "# Buatlah program penerapan operator pembanding\n",
        "# dengan nilai-nilai yang berbeda dari contoh di atas\n",
        "\n",
        "#JAWABAN\n",
        "print(7==5)\n",
        "print(7!=5)\n",
        "print(7>5)\n",
        "print(7<5)\n",
        "print(7>=5)\n",
        "print(7<=5)"
      ],
      "execution_count": null,
      "outputs": [
        {
          "output_type": "stream",
          "name": "stdout",
          "text": [
            "False\n",
            "True\n",
            "True\n",
            "False\n",
            "True\n",
            "False\n"
          ]
        }
      ]
    },
    {
      "cell_type": "markdown",
      "metadata": {
        "id": "O4dgGIvgNFjo"
      },
      "source": [
        "#Operator Logika\n",
        "OPerator logika digunakan untuk mengkombinasikan statment-statment kondisional\n",
        "macam-macam operator logika:\n",
        "\n",
        "\n",
        "```\n",
        "and -> kondisi menjadi benar apabila semua statmentnya benar\n",
        "or  -> kondisi menjadi benar apabila salah satu statmentnya ada yang benar\n",
        "not -> membalik hasil dari benar ke Salah dan salah ke benar\n",
        "```\n",
        "\n"
      ]
    },
    {
      "cell_type": "code",
      "metadata": {
        "id": "s9alw4RhN0ZX",
        "colab": {
          "base_uri": "https://localhost:8080/"
        },
        "outputId": "dcd2b310-072c-44be-d8f1-36f38c0953d1"
      },
      "source": [
        "# Contoh penggunaan operator logika\n",
        "\n",
        "print(True and False)\n",
        "print(False or False)\n",
        "print(not False and True)"
      ],
      "execution_count": null,
      "outputs": [
        {
          "output_type": "stream",
          "name": "stdout",
          "text": [
            "False\n",
            "False\n",
            "True\n"
          ]
        }
      ]
    },
    {
      "cell_type": "markdown",
      "metadata": {
        "id": "PGxZWlVlOeVk"
      },
      "source": [
        "Latihan Operator 4"
      ]
    },
    {
      "cell_type": "code",
      "metadata": {
        "id": "1aSQ_mp4OJDN",
        "colab": {
          "base_uri": "https://localhost:8080/"
        },
        "outputId": "9a31ee42-7ed9-4edf-a856-deb8e3217a19"
      },
      "source": [
        "# Buatlah program penerapan operator logika\n",
        "# dengan nilai-nilai yang berbeda dari contoh di atas\n",
        "\n",
        "#JAWABAN\n",
        "print(True and True)\n",
        "print(True or False)\n",
        "print(not True and False)"
      ],
      "execution_count": null,
      "outputs": [
        {
          "output_type": "stream",
          "name": "stdout",
          "text": [
            "True\n",
            "True\n",
            "False\n"
          ]
        }
      ]
    }
  ]
}